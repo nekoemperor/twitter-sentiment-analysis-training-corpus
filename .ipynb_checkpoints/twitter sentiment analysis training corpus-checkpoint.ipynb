{
 "cells": [
  {
   "cell_type": "code",
   "execution_count": 1,
   "id": "6f82f6a0",
   "metadata": {},
   "outputs": [],
   "source": [
    "import nltk\n",
    "import pandas as pd\n",
    "import matplotlib.pyplot as plt\n",
    "import seaborn as sns\n",
    "%matplotlib inline\n",
    "import string\n",
    "import re\n",
    "\n",
    "from nltk.corpus import stopwords\n",
    "from sklearn.feature_extraction.text import CountVectorizer\n",
    "from sklearn.feature_extraction.text import TfidfTransformer\n",
    "from sklearn.naive_bayes import MultinomialNB\n",
    "from sklearn.metrics import classification_report, confusion_matrix, accuracy_score\n",
    "from sklearn.model_selection import train_test_split\n",
    "from sklearn.pipeline import Pipeline\n",
    "from collections import Counter\n",
    "from string import punctuation"
   ]
  },
  {
   "cell_type": "code",
   "execution_count": 2,
   "id": "ea8c00d5",
   "metadata": {},
   "outputs": [],
   "source": [
    "#nltk.download('stopwords')"
   ]
  },
  {
   "cell_type": "code",
   "execution_count": 3,
   "id": "e2f7d76b",
   "metadata": {},
   "outputs": [],
   "source": [
    "twitters = pd.read_csv('training.txt', sep = '\\t', names=['label', 'tweet'])"
   ]
  },
  {
   "cell_type": "code",
   "execution_count": 4,
   "id": "1e06cefb",
   "metadata": {},
   "outputs": [
    {
     "data": {
      "text/html": [
       "<div>\n",
       "<style scoped>\n",
       "    .dataframe tbody tr th:only-of-type {\n",
       "        vertical-align: middle;\n",
       "    }\n",
       "\n",
       "    .dataframe tbody tr th {\n",
       "        vertical-align: top;\n",
       "    }\n",
       "\n",
       "    .dataframe thead th {\n",
       "        text-align: right;\n",
       "    }\n",
       "</style>\n",
       "<table border=\"1\" class=\"dataframe\">\n",
       "  <thead>\n",
       "    <tr style=\"text-align: right;\">\n",
       "      <th></th>\n",
       "      <th>label</th>\n",
       "      <th>tweet</th>\n",
       "    </tr>\n",
       "  </thead>\n",
       "  <tbody>\n",
       "    <tr>\n",
       "      <th>0</th>\n",
       "      <td>1</td>\n",
       "      <td>The Da Vinci Code book is just awesome.</td>\n",
       "    </tr>\n",
       "    <tr>\n",
       "      <th>1</th>\n",
       "      <td>1</td>\n",
       "      <td>this was the first clive cussler i've ever rea...</td>\n",
       "    </tr>\n",
       "    <tr>\n",
       "      <th>2</th>\n",
       "      <td>1</td>\n",
       "      <td>i liked the Da Vinci Code a lot.</td>\n",
       "    </tr>\n",
       "    <tr>\n",
       "      <th>3</th>\n",
       "      <td>1</td>\n",
       "      <td>i liked the Da Vinci Code a lot.</td>\n",
       "    </tr>\n",
       "    <tr>\n",
       "      <th>4</th>\n",
       "      <td>1</td>\n",
       "      <td>I liked the Da Vinci Code but it ultimatly did...</td>\n",
       "    </tr>\n",
       "  </tbody>\n",
       "</table>\n",
       "</div>"
      ],
      "text/plain": [
       "   label                                              tweet\n",
       "0      1            The Da Vinci Code book is just awesome.\n",
       "1      1  this was the first clive cussler i've ever rea...\n",
       "2      1                   i liked the Da Vinci Code a lot.\n",
       "3      1                   i liked the Da Vinci Code a lot.\n",
       "4      1  I liked the Da Vinci Code but it ultimatly did..."
      ]
     },
     "execution_count": 4,
     "metadata": {},
     "output_type": "execute_result"
    }
   ],
   "source": [
    "twitters.head()"
   ]
  },
  {
   "cell_type": "code",
   "execution_count": 5,
   "id": "612ebfd9",
   "metadata": {},
   "outputs": [
    {
     "name": "stdout",
     "output_type": "stream",
     "text": [
      "number of positve tagged sentences is:  2975\n",
      "number of negative tagged sentences is: 3943\n",
      "total length of the data is:            6918\n"
     ]
    }
   ],
   "source": [
    "# check the number of positive vs. negative labeled tweets\n",
    "pos = twitters['label'][twitters.label == 0]\n",
    "neg = twitters['label'][twitters.label == 1]\n",
    "\n",
    "print('number of positve tagged sentences is:  {}'.format(len(pos)))\n",
    "print('number of negative tagged sentences is: {}'.format(len(neg)))\n",
    "print('total length of the data is:            {}'.format(twitters.shape[0]))"
   ]
  },
  {
   "cell_type": "code",
   "execution_count": 6,
   "id": "a51e5958",
   "metadata": {},
   "outputs": [
    {
     "data": {
      "text/html": [
       "<div>\n",
       "<style scoped>\n",
       "    .dataframe tbody tr th:only-of-type {\n",
       "        vertical-align: middle;\n",
       "    }\n",
       "\n",
       "    .dataframe tbody tr th {\n",
       "        vertical-align: top;\n",
       "    }\n",
       "\n",
       "    .dataframe thead th {\n",
       "        text-align: right;\n",
       "    }\n",
       "</style>\n",
       "<table border=\"1\" class=\"dataframe\">\n",
       "  <thead>\n",
       "    <tr style=\"text-align: right;\">\n",
       "      <th></th>\n",
       "      <th>label</th>\n",
       "    </tr>\n",
       "  </thead>\n",
       "  <tbody>\n",
       "    <tr>\n",
       "      <th>count</th>\n",
       "      <td>6918.000000</td>\n",
       "    </tr>\n",
       "    <tr>\n",
       "      <th>mean</th>\n",
       "      <td>0.569962</td>\n",
       "    </tr>\n",
       "    <tr>\n",
       "      <th>std</th>\n",
       "      <td>0.495117</td>\n",
       "    </tr>\n",
       "    <tr>\n",
       "      <th>min</th>\n",
       "      <td>0.000000</td>\n",
       "    </tr>\n",
       "    <tr>\n",
       "      <th>25%</th>\n",
       "      <td>0.000000</td>\n",
       "    </tr>\n",
       "    <tr>\n",
       "      <th>50%</th>\n",
       "      <td>1.000000</td>\n",
       "    </tr>\n",
       "    <tr>\n",
       "      <th>75%</th>\n",
       "      <td>1.000000</td>\n",
       "    </tr>\n",
       "    <tr>\n",
       "      <th>max</th>\n",
       "      <td>1.000000</td>\n",
       "    </tr>\n",
       "  </tbody>\n",
       "</table>\n",
       "</div>"
      ],
      "text/plain": [
       "             label\n",
       "count  6918.000000\n",
       "mean      0.569962\n",
       "std       0.495117\n",
       "min       0.000000\n",
       "25%       0.000000\n",
       "50%       1.000000\n",
       "75%       1.000000\n",
       "max       1.000000"
      ]
     },
     "execution_count": 6,
     "metadata": {},
     "output_type": "execute_result"
    }
   ],
   "source": [
    "twitters.describe()"
   ]
  },
  {
   "cell_type": "code",
   "execution_count": 7,
   "id": "bc535ece",
   "metadata": {},
   "outputs": [
    {
     "data": {
      "text/html": [
       "<div>\n",
       "<style scoped>\n",
       "    .dataframe tbody tr th:only-of-type {\n",
       "        vertical-align: middle;\n",
       "    }\n",
       "\n",
       "    .dataframe tbody tr th {\n",
       "        vertical-align: top;\n",
       "    }\n",
       "\n",
       "    .dataframe thead tr th {\n",
       "        text-align: left;\n",
       "    }\n",
       "\n",
       "    .dataframe thead tr:last-of-type th {\n",
       "        text-align: right;\n",
       "    }\n",
       "</style>\n",
       "<table border=\"1\" class=\"dataframe\">\n",
       "  <thead>\n",
       "    <tr>\n",
       "      <th></th>\n",
       "      <th colspan=\"4\" halign=\"left\">tweet</th>\n",
       "    </tr>\n",
       "    <tr>\n",
       "      <th></th>\n",
       "      <th>count</th>\n",
       "      <th>unique</th>\n",
       "      <th>top</th>\n",
       "      <th>freq</th>\n",
       "    </tr>\n",
       "    <tr>\n",
       "      <th>label</th>\n",
       "      <th></th>\n",
       "      <th></th>\n",
       "      <th></th>\n",
       "      <th></th>\n",
       "    </tr>\n",
       "  </thead>\n",
       "  <tbody>\n",
       "    <tr>\n",
       "      <th>0</th>\n",
       "      <td>2975</td>\n",
       "      <td>559</td>\n",
       "      <td>I hate Harry Potter.</td>\n",
       "      <td>85</td>\n",
       "    </tr>\n",
       "    <tr>\n",
       "      <th>1</th>\n",
       "      <td>3943</td>\n",
       "      <td>732</td>\n",
       "      <td>I love Harry Potter.</td>\n",
       "      <td>167</td>\n",
       "    </tr>\n",
       "  </tbody>\n",
       "</table>\n",
       "</div>"
      ],
      "text/plain": [
       "      tweet                                  \n",
       "      count unique                   top freq\n",
       "label                                        \n",
       "0      2975    559  I hate Harry Potter.   85\n",
       "1      3943    732  I love Harry Potter.  167"
      ]
     },
     "execution_count": 7,
     "metadata": {},
     "output_type": "execute_result"
    }
   ],
   "source": [
    "twitters.groupby('label').describe()"
   ]
  },
  {
   "cell_type": "code",
   "execution_count": 8,
   "id": "351437c5",
   "metadata": {},
   "outputs": [
    {
     "data": {
      "text/html": [
       "<div>\n",
       "<style scoped>\n",
       "    .dataframe tbody tr th:only-of-type {\n",
       "        vertical-align: middle;\n",
       "    }\n",
       "\n",
       "    .dataframe tbody tr th {\n",
       "        vertical-align: top;\n",
       "    }\n",
       "\n",
       "    .dataframe thead th {\n",
       "        text-align: right;\n",
       "    }\n",
       "</style>\n",
       "<table border=\"1\" class=\"dataframe\">\n",
       "  <thead>\n",
       "    <tr style=\"text-align: right;\">\n",
       "      <th></th>\n",
       "      <th>label</th>\n",
       "      <th>tweet</th>\n",
       "      <th>word count</th>\n",
       "    </tr>\n",
       "  </thead>\n",
       "  <tbody>\n",
       "    <tr>\n",
       "      <th>0</th>\n",
       "      <td>1</td>\n",
       "      <td>The Da Vinci Code book is just awesome.</td>\n",
       "      <td>8</td>\n",
       "    </tr>\n",
       "    <tr>\n",
       "      <th>1</th>\n",
       "      <td>1</td>\n",
       "      <td>this was the first clive cussler i've ever rea...</td>\n",
       "      <td>23</td>\n",
       "    </tr>\n",
       "    <tr>\n",
       "      <th>2</th>\n",
       "      <td>1</td>\n",
       "      <td>i liked the Da Vinci Code a lot.</td>\n",
       "      <td>8</td>\n",
       "    </tr>\n",
       "    <tr>\n",
       "      <th>3</th>\n",
       "      <td>1</td>\n",
       "      <td>i liked the Da Vinci Code a lot.</td>\n",
       "      <td>8</td>\n",
       "    </tr>\n",
       "    <tr>\n",
       "      <th>4</th>\n",
       "      <td>1</td>\n",
       "      <td>I liked the Da Vinci Code but it ultimatly did...</td>\n",
       "      <td>15</td>\n",
       "    </tr>\n",
       "    <tr>\n",
       "      <th>5</th>\n",
       "      <td>1</td>\n",
       "      <td>that's not even an exaggeration ) and at midni...</td>\n",
       "      <td>24</td>\n",
       "    </tr>\n",
       "    <tr>\n",
       "      <th>6</th>\n",
       "      <td>1</td>\n",
       "      <td>I loved the Da Vinci Code, but now I want some...</td>\n",
       "      <td>14</td>\n",
       "    </tr>\n",
       "    <tr>\n",
       "      <th>7</th>\n",
       "      <td>1</td>\n",
       "      <td>i thought da vinci code was great, same with k...</td>\n",
       "      <td>11</td>\n",
       "    </tr>\n",
       "    <tr>\n",
       "      <th>8</th>\n",
       "      <td>1</td>\n",
       "      <td>The Da Vinci Code is actually a good movie...</td>\n",
       "      <td>9</td>\n",
       "    </tr>\n",
       "    <tr>\n",
       "      <th>9</th>\n",
       "      <td>1</td>\n",
       "      <td>I thought the Da Vinci Code was a pretty good ...</td>\n",
       "      <td>11</td>\n",
       "    </tr>\n",
       "  </tbody>\n",
       "</table>\n",
       "</div>"
      ],
      "text/plain": [
       "   label                                              tweet  word count\n",
       "0      1            The Da Vinci Code book is just awesome.           8\n",
       "1      1  this was the first clive cussler i've ever rea...          23\n",
       "2      1                   i liked the Da Vinci Code a lot.           8\n",
       "3      1                   i liked the Da Vinci Code a lot.           8\n",
       "4      1  I liked the Da Vinci Code but it ultimatly did...          15\n",
       "5      1  that's not even an exaggeration ) and at midni...          24\n",
       "6      1  I loved the Da Vinci Code, but now I want some...          14\n",
       "7      1  i thought da vinci code was great, same with k...          11\n",
       "8      1      The Da Vinci Code is actually a good movie...           9\n",
       "9      1  I thought the Da Vinci Code was a pretty good ...          11"
      ]
     },
     "execution_count": 8,
     "metadata": {},
     "output_type": "execute_result"
    }
   ],
   "source": [
    "# get a word count per sentence column\n",
    "def word_count(sentence):\n",
    "    return len(sentence.split())\n",
    "    \n",
    "twitters['word count'] = twitters['tweet'].apply(word_count)\n",
    "twitters.head(10)"
   ]
  },
  {
   "cell_type": "code",
   "execution_count": 9,
   "id": "963a869a",
   "metadata": {},
   "outputs": [
    {
     "data": {
      "text/plain": [
       "<matplotlib.legend.Legend at 0x2516fc69220>"
      ]
     },
     "execution_count": 9,
     "metadata": {},
     "output_type": "execute_result"
    },
    {
     "data": {
      "image/png": "[encoded data removed]",
      "text/plain": [
       "<Figure size 864x432 with 1 Axes>"
      ]
     },
     "metadata": {
      "needs_background": "light"
     },
     "output_type": "display_data"
    }
   ],
   "source": [
    "# plot word count distribution for both positive and negative sentiments\n",
    "x = twitters['word count'][twitters.label == 1]\n",
    "y = twitters['word count'][twitters.label == 0]\n",
    "plt.figure(figsize=(12,6))\n",
    "plt.xlim(0,200)\n",
    "plt.xlabel('word count')\n",
    "plt.ylabel('frequency')\n",
    "g = plt.hist([x, y], color=['r','b'], alpha=0.5, label=['positive','negative'])\n",
    "plt.legend(loc='upper right')"
   ]
  },
  {
   "cell_type": "code",
   "execution_count": 10,
   "id": "b5f8cd92",
   "metadata": {},
   "outputs": [
    {
     "data": {
      "text/plain": [
       "[('i', 4559),\n",
       " ('the', 3221),\n",
       " ('and', 2148),\n",
       " ('harry', 2088),\n",
       " ('vinci', 2001),\n",
       " ('da', 1998),\n",
       " ('brokeback', 1996),\n",
       " ('code', 1628),\n",
       " ('love', 1540),\n",
       " ('is', 1512)]"
      ]
     },
     "execution_count": 10,
     "metadata": {},
     "output_type": "execute_result"
    }
   ],
   "source": [
    "# get most common words in training dataset\n",
    "all_words = []\n",
    "for line in list(twitters['tweet']):\n",
    "    words = line.split()\n",
    "    for word in words:\n",
    "        all_words.append(word.lower())\n",
    "    \n",
    "    \n",
    "Counter(all_words).most_common(10)"
   ]
  },
  {
   "cell_type": "code",
   "execution_count": 11,
   "id": "ddc54f3c",
   "metadata": {},
   "outputs": [
    {
     "data": {
      "text/plain": [
       "[('i', 3142),\n",
       " ('the', 1836),\n",
       " ('love', 1532),\n",
       " ('harry', 1085),\n",
       " ('vinci', 1000),\n",
       " ('da', 999),\n",
       " ('brokeback', 999),\n",
       " ('mission', 997),\n",
       " ('is', 987),\n",
       " ('and', 954)]"
      ]
     },
     "execution_count": 11,
     "metadata": {},
     "output_type": "execute_result"
    }
   ],
   "source": [
    "# get top-10 words more frequent with positive labels in training dataset\n",
    "pos_words = []\n",
    "for line in list(twitters['tweet'][twitters.label == 1]):\n",
    "    pwords = line.split()\n",
    "    for pword in pwords:\n",
    "        pos_words.append(pword.lower())\n",
    "    \n",
    "    \n",
    "Counter(pos_words).most_common(10)"
   ]
  },
  {
   "cell_type": "code",
   "execution_count": 12,
   "id": "fe891c86",
   "metadata": {},
   "outputs": [
    {
     "data": {
      "text/plain": [
       "[('i', 1417),\n",
       " ('the', 1385),\n",
       " ('and', 1194),\n",
       " ('harry', 1003),\n",
       " ('vinci', 1001),\n",
       " ('da', 999),\n",
       " ('brokeback', 997),\n",
       " ('code', 946),\n",
       " ('mountain', 716),\n",
       " ('hate', 571)]"
      ]
     },
     "execution_count": 12,
     "metadata": {},
     "output_type": "execute_result"
    }
   ],
   "source": [
    "# get top-10 words more frequent with negative labels in training dataset\n",
    "neg_words = []\n",
    "for line in list(twitters['tweet'][twitters.label == 0]):\n",
    "    nwords = line.split()\n",
    "    for nword in nwords:\n",
    "        neg_words.append(nword.lower())\n",
    "    \n",
    "    \n",
    "Counter(neg_words).most_common(10)"
   ]
  },
  {
   "cell_type": "code",
   "execution_count": 13,
   "id": "6995a2a3",
   "metadata": {},
   "outputs": [
    {
     "data": {
      "image/png": "[encoded data removed]",
      "text/plain": [
       "<Figure size 864x360 with 1 Axes>"
      ]
     },
     "metadata": {
      "needs_background": "light"
     },
     "output_type": "display_data"
    },
    {
     "data": {
      "text/plain": [
       "Text(0.5, 1.0, 'log-log plot of words frequency with positive labels')"
      ]
     },
     "execution_count": 13,
     "metadata": {},
     "output_type": "execute_result"
    },
    {
     "data": {
      "image/png": "[encoded data removed]",
      "text/plain": [
       "<Figure size 864x360 with 1 Axes>"
      ]
     },
     "metadata": {
      "needs_background": "light"
     },
     "output_type": "display_data"
    }
   ],
   "source": [
    "# plot word frequency distribution of first few words with positive labels\n",
    "plt.figure(figsize=(12,5))\n",
    "plt.title('Top-10 words more frequent with positive labels')\n",
    "plt.xticks(fontsize=13, rotation=90)\n",
    "fd = nltk.FreqDist(pos_words)\n",
    "fd.plot(10,cumulative=False)\n",
    "\n",
    "# log-log plot with positive labels\n",
    "word_counts = sorted(Counter(pos_words).values(), reverse=True)\n",
    "plt.figure(figsize=(12,5))\n",
    "plt.loglog(word_counts, linestyle='-', linewidth=1.5)\n",
    "plt.ylabel(\"Freq\")\n",
    "plt.xlabel(\"Word Rank\")\n",
    "plt.title('log-log plot of words frequency with positive labels')"
   ]
  },
  {
   "cell_type": "code",
   "execution_count": 14,
   "id": "dbf2b42d",
   "metadata": {},
   "outputs": [
    {
     "data": {
      "image/png": "[encoded data removed]",
      "text/plain": [
       "<Figure size 864x360 with 1 Axes>"
      ]
     },
     "metadata": {
      "needs_background": "light"
     },
     "output_type": "display_data"
    },
    {
     "data": {
      "text/plain": [
       "Text(0.5, 1.0, 'log-log plot of words frequency with negative labels')"
      ]
     },
     "execution_count": 14,
     "metadata": {},
     "output_type": "execute_result"
    },
    {
     "data": {
      "image/png": "[encoded data removed]",
      "text/plain": [
       "<Figure size 864x360 with 1 Axes>"
      ]
     },
     "metadata": {
      "needs_background": "light"
     },
     "output_type": "display_data"
    }
   ],
   "source": [
    "# plot word frequency distribution of first few words with negative labels\n",
    "plt.figure(figsize=(12,5))\n",
    "plt.title('Top-10 words more frequent with negative labels')\n",
    "plt.xticks(fontsize=13, rotation=90)\n",
    "fd = nltk.FreqDist(neg_words)\n",
    "fd.plot(10,cumulative=False)\n",
    "\n",
    "# log-log plot with negative labels\n",
    "word_counts = sorted(Counter(neg_words).values(), reverse=True)\n",
    "plt.figure(figsize=(12,5))\n",
    "plt.loglog(word_counts, linestyle='-', linewidth=1.5)\n",
    "plt.ylabel(\"Freq\")\n",
    "plt.xlabel(\"Word Rank\")\n",
    "plt.title('log-log plot of words frequency with negative labels')"
   ]
  },
  {
   "cell_type": "markdown",
   "id": "fb4fa32c",
   "metadata": {},
   "source": [
    "## Pre-Processing: Data Cleaning"
   ]
  },
  {
   "cell_type": "code",
   "execution_count": 15,
   "id": "0f8480ba",
   "metadata": {},
   "outputs": [],
   "source": [
    "# helper function to clean tweets\n",
    "def preprocess_twitters(twitt):\n",
    "    # To lowercase\n",
    "    twitt = twitt.lower()\n",
    "    \n",
    "    # Remove single space remaining at the front of the tweet.\n",
    "    #twitt = twitt.lstrip(' ')\n",
    "    \n",
    "    # Remove HTML special entities (e.g. &amp;)\n",
    "    twitt = re.sub(r'\\&\\w*;', '', twitt)\n",
    "    \n",
    "    #Convert @username to AT_USER\n",
    "    twitt = re.sub('@[^\\s]+','',twitt)\n",
    "    \n",
    "    # Remove tickers\n",
    "    twitt = re.sub(r'\\$\\w*', '', twitt)\n",
    "    \n",
    "    # Remove hyperlinks\n",
    "    twitt = re.sub(r'https?:\\/\\/.*\\/\\w*', '', twitt)\n",
    "    \n",
    "    # Remove hashtags\n",
    "    twitt = re.sub(r'#\\w*', '', twitt)\n",
    "    \n",
    "    # Remove Punctuation and split 's, 't, 've with a space for filter\n",
    "    twitt = re.sub(r'[' + punctuation.replace('@', '') + ']+', ' ', twitt)\n",
    "    \n",
    "    # Remove words with 2 or fewer letters\n",
    "    #twitt = re.sub(r'\\b\\w{1,2}\\b', '', twitt)\n",
    "    \n",
    "    # Remove whitespace (including new line characters)\n",
    "    twitt = re.sub(r'\\s\\s+', ' ', twitt) \n",
    "    \n",
    "    # Remove characters beyond Basic Multilingual Plane (BMP) of Unicode:\n",
    "    twitt = ''.join(c for c in twitt if c <= '\\uFFFF') \n",
    "    \n",
    "    return twitt"
   ]
  },
  {
   "cell_type": "code",
   "execution_count": 16,
   "id": "15363ace",
   "metadata": {},
   "outputs": [
    {
     "data": {
      "text/plain": [
       "0              the da vinci code book is just awesome \n",
       "1    this was the first clive cussler i ve ever rea...\n",
       "2                     i liked the da vinci code a lot \n",
       "3                     i liked the da vinci code a lot \n",
       "4    i liked the da vinci code but it ultimatly did...\n",
       "Name: tweet, dtype: object"
      ]
     },
     "execution_count": 16,
     "metadata": {},
     "output_type": "execute_result"
    }
   ],
   "source": [
    "twitters['tweet'].head(5).apply(preprocess_twitters)"
   ]
  },
  {
   "cell_type": "code",
   "execution_count": 17,
   "id": "2d4ab107",
   "metadata": {},
   "outputs": [
    {
     "data": {
      "text/html": [
       "<div>\n",
       "<style scoped>\n",
       "    .dataframe tbody tr th:only-of-type {\n",
       "        vertical-align: middle;\n",
       "    }\n",
       "\n",
       "    .dataframe tbody tr th {\n",
       "        vertical-align: top;\n",
       "    }\n",
       "\n",
       "    .dataframe thead th {\n",
       "        text-align: right;\n",
       "    }\n",
       "</style>\n",
       "<table border=\"1\" class=\"dataframe\">\n",
       "  <thead>\n",
       "    <tr style=\"text-align: right;\">\n",
       "      <th></th>\n",
       "      <th>label</th>\n",
       "      <th>tweet</th>\n",
       "      <th>word count</th>\n",
       "    </tr>\n",
       "  </thead>\n",
       "  <tbody>\n",
       "    <tr>\n",
       "      <th>0</th>\n",
       "      <td>1</td>\n",
       "      <td>The Da Vinci Code book is just awesome.</td>\n",
       "      <td>8</td>\n",
       "    </tr>\n",
       "    <tr>\n",
       "      <th>1</th>\n",
       "      <td>1</td>\n",
       "      <td>this was the first clive cussler i've ever rea...</td>\n",
       "      <td>23</td>\n",
       "    </tr>\n",
       "    <tr>\n",
       "      <th>2</th>\n",
       "      <td>1</td>\n",
       "      <td>i liked the Da Vinci Code a lot.</td>\n",
       "      <td>8</td>\n",
       "    </tr>\n",
       "    <tr>\n",
       "      <th>3</th>\n",
       "      <td>1</td>\n",
       "      <td>i liked the Da Vinci Code a lot.</td>\n",
       "      <td>8</td>\n",
       "    </tr>\n",
       "    <tr>\n",
       "      <th>4</th>\n",
       "      <td>1</td>\n",
       "      <td>I liked the Da Vinci Code but it ultimatly did...</td>\n",
       "      <td>15</td>\n",
       "    </tr>\n",
       "  </tbody>\n",
       "</table>\n",
       "</div>"
      ],
      "text/plain": [
       "   label                                              tweet  word count\n",
       "0      1            The Da Vinci Code book is just awesome.           8\n",
       "1      1  this was the first clive cussler i've ever rea...          23\n",
       "2      1                   i liked the Da Vinci Code a lot.           8\n",
       "3      1                   i liked the Da Vinci Code a lot.           8\n",
       "4      1  I liked the Da Vinci Code but it ultimatly did...          15"
      ]
     },
     "execution_count": 17,
     "metadata": {},
     "output_type": "execute_result"
    }
   ],
   "source": [
    "twitters.head()"
   ]
  },
  {
   "cell_type": "code",
   "execution_count": 18,
   "id": "94ccf6ff",
   "metadata": {},
   "outputs": [],
   "source": [
    "twitters['tweet_preprocess'] = twitters['tweet'].apply(preprocess_twitters)"
   ]
  },
  {
   "cell_type": "code",
   "execution_count": 19,
   "id": "f889b0f2",
   "metadata": {},
   "outputs": [
    {
     "data": {
      "text/html": [
       "<div>\n",
       "<style scoped>\n",
       "    .dataframe tbody tr th:only-of-type {\n",
       "        vertical-align: middle;\n",
       "    }\n",
       "\n",
       "    .dataframe tbody tr th {\n",
       "        vertical-align: top;\n",
       "    }\n",
       "\n",
       "    .dataframe thead th {\n",
       "        text-align: right;\n",
       "    }\n",
       "</style>\n",
       "<table border=\"1\" class=\"dataframe\">\n",
       "  <thead>\n",
       "    <tr style=\"text-align: right;\">\n",
       "      <th></th>\n",
       "      <th>label</th>\n",
       "      <th>tweet</th>\n",
       "      <th>word count</th>\n",
       "      <th>tweet_preprocess</th>\n",
       "    </tr>\n",
       "  </thead>\n",
       "  <tbody>\n",
       "    <tr>\n",
       "      <th>0</th>\n",
       "      <td>1</td>\n",
       "      <td>The Da Vinci Code book is just awesome.</td>\n",
       "      <td>8</td>\n",
       "      <td>the da vinci code book is just awesome</td>\n",
       "    </tr>\n",
       "    <tr>\n",
       "      <th>1</th>\n",
       "      <td>1</td>\n",
       "      <td>this was the first clive cussler i've ever rea...</td>\n",
       "      <td>23</td>\n",
       "      <td>this was the first clive cussler i ve ever rea...</td>\n",
       "    </tr>\n",
       "    <tr>\n",
       "      <th>2</th>\n",
       "      <td>1</td>\n",
       "      <td>i liked the Da Vinci Code a lot.</td>\n",
       "      <td>8</td>\n",
       "      <td>i liked the da vinci code a lot</td>\n",
       "    </tr>\n",
       "    <tr>\n",
       "      <th>3</th>\n",
       "      <td>1</td>\n",
       "      <td>i liked the Da Vinci Code a lot.</td>\n",
       "      <td>8</td>\n",
       "      <td>i liked the da vinci code a lot</td>\n",
       "    </tr>\n",
       "    <tr>\n",
       "      <th>4</th>\n",
       "      <td>1</td>\n",
       "      <td>I liked the Da Vinci Code but it ultimatly did...</td>\n",
       "      <td>15</td>\n",
       "      <td>i liked the da vinci code but it ultimatly did...</td>\n",
       "    </tr>\n",
       "  </tbody>\n",
       "</table>\n",
       "</div>"
      ],
      "text/plain": [
       "   label                                              tweet  word count  \\\n",
       "0      1            The Da Vinci Code book is just awesome.           8   \n",
       "1      1  this was the first clive cussler i've ever rea...          23   \n",
       "2      1                   i liked the Da Vinci Code a lot.           8   \n",
       "3      1                   i liked the Da Vinci Code a lot.           8   \n",
       "4      1  I liked the Da Vinci Code but it ultimatly did...          15   \n",
       "\n",
       "                                    tweet_preprocess  \n",
       "0            the da vinci code book is just awesome   \n",
       "1  this was the first clive cussler i ve ever rea...  \n",
       "2                   i liked the da vinci code a lot   \n",
       "3                   i liked the da vinci code a lot   \n",
       "4  i liked the da vinci code but it ultimatly did...  "
      ]
     },
     "execution_count": 19,
     "metadata": {},
     "output_type": "execute_result"
    }
   ],
   "source": [
    "twitters.head()"
   ]
  },
  {
   "cell_type": "code",
   "execution_count": 20,
   "id": "854b74e0",
   "metadata": {},
   "outputs": [
    {
     "data": {
      "text/plain": [
       "0              the da vinci code book is just awesome \n",
       "1    this was the first clive cussler i ve ever rea...\n",
       "2                     i liked the da vinci code a lot \n",
       "3                     i liked the da vinci code a lot \n",
       "4    i liked the da vinci code but it ultimatly did...\n",
       "Name: tweet_preprocess, dtype: object"
      ]
     },
     "execution_count": 20,
     "metadata": {},
     "output_type": "execute_result"
    }
   ],
   "source": [
    "twitters['tweet_preprocess'].head()"
   ]
  },
  {
   "cell_type": "code",
   "execution_count": 21,
   "id": "5ba43c89",
   "metadata": {},
   "outputs": [],
   "source": [
    "# most common words in twitter dataset\n",
    "all_words = []\n",
    "for line in list(twitters['tweet_preprocess']):\n",
    "    words = line.split()\n",
    "    for word in words:\n",
    "        all_words.append(word.lower())\n",
    "        \n",
    "# most common words in twitter dataset\n",
    "pos_words = []\n",
    "for line in list(twitters['tweet_preprocess'][twitters.label == 1]):\n",
    "    pwords = line.split()\n",
    "    for pword in pwords:\n",
    "        pos_words.append(pword.lower())\n",
    "\n",
    "# most common words in twitter dataset\n",
    "neg_words = []\n",
    "for line in list(twitters['tweet_preprocess'][twitters.label == 0]):\n",
    "    nwords = line.split()\n",
    "    for nword in nwords:\n",
    "        neg_words.append(nword.lower())"
   ]
  },
  {
   "cell_type": "code",
   "execution_count": 22,
   "id": "00549086",
   "metadata": {},
   "outputs": [
    {
     "data": {
      "image/png": "[encoded data removed]",
      "text/plain": [
       "<Figure size 864x360 with 1 Axes>"
      ]
     },
     "metadata": {
      "needs_background": "light"
     },
     "output_type": "display_data"
    },
    {
     "data": {
      "image/png": "[encoded data removed]",
      "text/plain": [
       "<Figure size 864x360 with 1 Axes>"
      ]
     },
     "metadata": {
      "needs_background": "light"
     },
     "output_type": "display_data"
    },
    {
     "data": {
      "image/png": "[encoded data removed]",
      "text/plain": [
       "<Figure size 864x360 with 1 Axes>"
      ]
     },
     "metadata": {
      "needs_background": "light"
     },
     "output_type": "display_data"
    },
    {
     "data": {
      "image/png": "[encoded data removed]",
      "text/plain": [
       "<Figure size 864x360 with 1 Axes>"
      ]
     },
     "metadata": {
      "needs_background": "light"
     },
     "output_type": "display_data"
    },
    {
     "data": {
      "image/png": "[encoded data removed]",
      "text/plain": [
       "<Figure size 864x360 with 1 Axes>"
      ]
     },
     "metadata": {
      "needs_background": "light"
     },
     "output_type": "display_data"
    },
    {
     "data": {
      "text/plain": [
       "Text(0.5, 1.0, 'log-log plot of words frequency with negative labels')"
      ]
     },
     "execution_count": 22,
     "metadata": {},
     "output_type": "execute_result"
    },
    {
     "data": {
      "image/png": "[encoded data removed]",
      "text/plain": [
       "<Figure size 864x360 with 1 Axes>"
      ]
     },
     "metadata": {
      "needs_background": "light"
     },
     "output_type": "display_data"
    }
   ],
   "source": [
    "# plot word frequency distribution of first few words\n",
    "plt.figure(figsize=(12,5))\n",
    "plt.title('Top-10 words more frequent with all labels')\n",
    "plt.xticks(fontsize=13, rotation=90)\n",
    "fd = nltk.FreqDist(all_words)\n",
    "fd.plot(10,cumulative=False)\n",
    "\n",
    "# log-log of all words \n",
    "word_counts = sorted(Counter(all_words).values(), reverse=True)\n",
    "plt.figure(figsize=(12,5))\n",
    "plt.loglog(word_counts, linestyle='-', linewidth=1.5)\n",
    "plt.ylabel(\"Freq\")\n",
    "plt.xlabel(\"Word Rank\")\n",
    "plt.title('log-log plot of words frequency with all labels')\n",
    "\n",
    "# plot word frequency distribution of first few words\n",
    "plt.figure(figsize=(12,5))\n",
    "plt.title('Top-10 words more frequent with positive labels')\n",
    "plt.xticks(fontsize=13, rotation=90)\n",
    "fd = nltk.FreqDist(pos_words)\n",
    "fd.plot(10,cumulative=False)\n",
    "\n",
    "# log-log of all words \n",
    "word_counts = sorted(Counter(pos_words).values(), reverse=True)\n",
    "plt.figure(figsize=(12,5))\n",
    "plt.loglog(word_counts, linestyle='-', linewidth=1.5)\n",
    "plt.ylabel(\"Freq\")\n",
    "plt.xlabel(\"Word Rank\")\n",
    "plt.title('log-log plot of words frequency with positive labels')\n",
    "\n",
    "# plot word frequency distribution of first few words\n",
    "plt.figure(figsize=(12,5))\n",
    "plt.title('Top-10 words more frequent with negative labels')\n",
    "plt.xticks(fontsize=13, rotation=90)\n",
    "fd = nltk.FreqDist(neg_words)\n",
    "fd.plot(10,cumulative=False)\n",
    "\n",
    "# log-log of all words \n",
    "word_counts = sorted(Counter(neg_words).values(), reverse=True)\n",
    "plt.figure(figsize=(12,5))\n",
    "plt.loglog(word_counts, linestyle='-', linewidth=1.5)\n",
    "plt.ylabel(\"Freq\")\n",
    "plt.xlabel(\"Word Rank\")\n",
    "plt.title('log-log plot of words frequency with negative labels')"
   ]
  },
  {
   "cell_type": "markdown",
   "id": "ca7ad083",
   "metadata": {},
   "source": [
    "## Tokenization"
   ]
  },
  {
   "cell_type": "code",
   "execution_count": 23,
   "id": "99e879ef",
   "metadata": {},
   "outputs": [],
   "source": [
    "def text_process(twitt):\n",
    "    \"\"\"\n",
    "    Takes in a string of text, then performs the following:\n",
    "    1. Remove all punctuation\n",
    "    2. Remove all stopwords\n",
    "    3. Returns a list of the cleaned text\n",
    "    \"\"\"\n",
    "    # Check characters to see if they are in punctuation\n",
    "    no_punc = [char for char in twitt if char not in string.punctuation]\n",
    "\n",
    "    # Join the characters again to form the string.\n",
    "    no_punc = ''.join(no_punc)\n",
    "    \n",
    "    # Now just remove any stopwords\n",
    "    return [word for word in no_punc.split() if word.lower() not in stopwords.words('english')]\n",
    "\n",
    "def remove_words(word_list):\n",
    "    remove = ['harry','potter','code','da','vinci','brokeback','mountain','mission','movie','movies']\n",
    "    return [w for w in word_list if w not in remove]"
   ]
  },
  {
   "cell_type": "code",
   "execution_count": 24,
   "id": "7e6fcbbc",
   "metadata": {},
   "outputs": [
    {
     "data": {
      "text/html": [
       "<div>\n",
       "<style scoped>\n",
       "    .dataframe tbody tr th:only-of-type {\n",
       "        vertical-align: middle;\n",
       "    }\n",
       "\n",
       "    .dataframe tbody tr th {\n",
       "        vertical-align: top;\n",
       "    }\n",
       "\n",
       "    .dataframe thead th {\n",
       "        text-align: right;\n",
       "    }\n",
       "</style>\n",
       "<table border=\"1\" class=\"dataframe\">\n",
       "  <thead>\n",
       "    <tr style=\"text-align: right;\">\n",
       "      <th></th>\n",
       "      <th>label</th>\n",
       "      <th>tweet</th>\n",
       "      <th>word count</th>\n",
       "      <th>tweet_preprocess</th>\n",
       "    </tr>\n",
       "  </thead>\n",
       "  <tbody>\n",
       "    <tr>\n",
       "      <th>0</th>\n",
       "      <td>1</td>\n",
       "      <td>The Da Vinci Code book is just awesome.</td>\n",
       "      <td>8</td>\n",
       "      <td>the da vinci code book is just awesome</td>\n",
       "    </tr>\n",
       "    <tr>\n",
       "      <th>1</th>\n",
       "      <td>1</td>\n",
       "      <td>this was the first clive cussler i've ever rea...</td>\n",
       "      <td>23</td>\n",
       "      <td>this was the first clive cussler i ve ever rea...</td>\n",
       "    </tr>\n",
       "    <tr>\n",
       "      <th>2</th>\n",
       "      <td>1</td>\n",
       "      <td>i liked the Da Vinci Code a lot.</td>\n",
       "      <td>8</td>\n",
       "      <td>i liked the da vinci code a lot</td>\n",
       "    </tr>\n",
       "    <tr>\n",
       "      <th>3</th>\n",
       "      <td>1</td>\n",
       "      <td>i liked the Da Vinci Code a lot.</td>\n",
       "      <td>8</td>\n",
       "      <td>i liked the da vinci code a lot</td>\n",
       "    </tr>\n",
       "    <tr>\n",
       "      <th>4</th>\n",
       "      <td>1</td>\n",
       "      <td>I liked the Da Vinci Code but it ultimatly did...</td>\n",
       "      <td>15</td>\n",
       "      <td>i liked the da vinci code but it ultimatly did...</td>\n",
       "    </tr>\n",
       "  </tbody>\n",
       "</table>\n",
       "</div>"
      ],
      "text/plain": [
       "   label                                              tweet  word count  \\\n",
       "0      1            The Da Vinci Code book is just awesome.           8   \n",
       "1      1  this was the first clive cussler i've ever rea...          23   \n",
       "2      1                   i liked the Da Vinci Code a lot.           8   \n",
       "3      1                   i liked the Da Vinci Code a lot.           8   \n",
       "4      1  I liked the Da Vinci Code but it ultimatly did...          15   \n",
       "\n",
       "                                    tweet_preprocess  \n",
       "0            the da vinci code book is just awesome   \n",
       "1  this was the first clive cussler i ve ever rea...  \n",
       "2                   i liked the da vinci code a lot   \n",
       "3                   i liked the da vinci code a lot   \n",
       "4  i liked the da vinci code but it ultimatly did...  "
      ]
     },
     "execution_count": 24,
     "metadata": {},
     "output_type": "execute_result"
    }
   ],
   "source": [
    "twitters.head()"
   ]
  },
  {
   "cell_type": "code",
   "execution_count": 25,
   "id": "046299dd",
   "metadata": {},
   "outputs": [],
   "source": [
    "twitters['tweet_pp_text_process'] = twitters['tweet_preprocess'].apply(text_process)"
   ]
  },
  {
   "cell_type": "code",
   "execution_count": 26,
   "id": "a75f8bce",
   "metadata": {},
   "outputs": [
    {
     "data": {
      "text/html": [
       "<div>\n",
       "<style scoped>\n",
       "    .dataframe tbody tr th:only-of-type {\n",
       "        vertical-align: middle;\n",
       "    }\n",
       "\n",
       "    .dataframe tbody tr th {\n",
       "        vertical-align: top;\n",
       "    }\n",
       "\n",
       "    .dataframe thead th {\n",
       "        text-align: right;\n",
       "    }\n",
       "</style>\n",
       "<table border=\"1\" class=\"dataframe\">\n",
       "  <thead>\n",
       "    <tr style=\"text-align: right;\">\n",
       "      <th></th>\n",
       "      <th>label</th>\n",
       "      <th>tweet</th>\n",
       "      <th>word count</th>\n",
       "      <th>tweet_preprocess</th>\n",
       "      <th>tweet_pp_text_process</th>\n",
       "    </tr>\n",
       "  </thead>\n",
       "  <tbody>\n",
       "    <tr>\n",
       "      <th>0</th>\n",
       "      <td>1</td>\n",
       "      <td>The Da Vinci Code book is just awesome.</td>\n",
       "      <td>8</td>\n",
       "      <td>the da vinci code book is just awesome</td>\n",
       "      <td>[da, vinci, code, book, awesome]</td>\n",
       "    </tr>\n",
       "    <tr>\n",
       "      <th>1</th>\n",
       "      <td>1</td>\n",
       "      <td>this was the first clive cussler i've ever rea...</td>\n",
       "      <td>23</td>\n",
       "      <td>this was the first clive cussler i ve ever rea...</td>\n",
       "      <td>[first, clive, cussler, ever, read, even, book...</td>\n",
       "    </tr>\n",
       "    <tr>\n",
       "      <th>2</th>\n",
       "      <td>1</td>\n",
       "      <td>i liked the Da Vinci Code a lot.</td>\n",
       "      <td>8</td>\n",
       "      <td>i liked the da vinci code a lot</td>\n",
       "      <td>[liked, da, vinci, code, lot]</td>\n",
       "    </tr>\n",
       "    <tr>\n",
       "      <th>3</th>\n",
       "      <td>1</td>\n",
       "      <td>i liked the Da Vinci Code a lot.</td>\n",
       "      <td>8</td>\n",
       "      <td>i liked the da vinci code a lot</td>\n",
       "      <td>[liked, da, vinci, code, lot]</td>\n",
       "    </tr>\n",
       "    <tr>\n",
       "      <th>4</th>\n",
       "      <td>1</td>\n",
       "      <td>I liked the Da Vinci Code but it ultimatly did...</td>\n",
       "      <td>15</td>\n",
       "      <td>i liked the da vinci code but it ultimatly did...</td>\n",
       "      <td>[liked, da, vinci, code, ultimatly, seem, hold]</td>\n",
       "    </tr>\n",
       "  </tbody>\n",
       "</table>\n",
       "</div>"
      ],
      "text/plain": [
       "   label                                              tweet  word count  \\\n",
       "0      1            The Da Vinci Code book is just awesome.           8   \n",
       "1      1  this was the first clive cussler i've ever rea...          23   \n",
       "2      1                   i liked the Da Vinci Code a lot.           8   \n",
       "3      1                   i liked the Da Vinci Code a lot.           8   \n",
       "4      1  I liked the Da Vinci Code but it ultimatly did...          15   \n",
       "\n",
       "                                    tweet_preprocess  \\\n",
       "0            the da vinci code book is just awesome    \n",
       "1  this was the first clive cussler i ve ever rea...   \n",
       "2                   i liked the da vinci code a lot    \n",
       "3                   i liked the da vinci code a lot    \n",
       "4  i liked the da vinci code but it ultimatly did...   \n",
       "\n",
       "                               tweet_pp_text_process  \n",
       "0                   [da, vinci, code, book, awesome]  \n",
       "1  [first, clive, cussler, ever, read, even, book...  \n",
       "2                      [liked, da, vinci, code, lot]  \n",
       "3                      [liked, da, vinci, code, lot]  \n",
       "4    [liked, da, vinci, code, ultimatly, seem, hold]  "
      ]
     },
     "execution_count": 26,
     "metadata": {},
     "output_type": "execute_result"
    }
   ],
   "source": [
    "twitters.head()"
   ]
  },
  {
   "cell_type": "code",
   "execution_count": 27,
   "id": "7c8e4665",
   "metadata": {},
   "outputs": [
    {
     "data": {
      "text/plain": [
       "0                        [da, vinci, code, book, awesome]\n",
       "1       [first, clive, cussler, ever, read, even, book...\n",
       "2                           [liked, da, vinci, code, lot]\n",
       "3                           [liked, da, vinci, code, lot]\n",
       "4         [liked, da, vinci, code, ultimatly, seem, hold]\n",
       "                              ...                        \n",
       "6913                        [brokeback, mountain, boring]\n",
       "6914            [brokeback, mountain, really, depressing]\n",
       "6915    [sit, watching, mtv, movie, awards, reminded, ...\n",
       "6916           [ok, brokeback, mountain, horrible, movie]\n",
       "6917           [oh, brokeback, mountain, terrible, movie]\n",
       "Name: tweet_pp_text_process, Length: 6918, dtype: object"
      ]
     },
     "execution_count": 27,
     "metadata": {},
     "output_type": "execute_result"
    }
   ],
   "source": [
    "twitters['tweet_pp_text_process']"
   ]
  },
  {
   "cell_type": "code",
   "execution_count": 28,
   "id": "6b8d9063",
   "metadata": {},
   "outputs": [
    {
     "data": {
      "text/html": [
       "<div>\n",
       "<style scoped>\n",
       "    .dataframe tbody tr th:only-of-type {\n",
       "        vertical-align: middle;\n",
       "    }\n",
       "\n",
       "    .dataframe tbody tr th {\n",
       "        vertical-align: top;\n",
       "    }\n",
       "\n",
       "    .dataframe thead th {\n",
       "        text-align: right;\n",
       "    }\n",
       "</style>\n",
       "<table border=\"1\" class=\"dataframe\">\n",
       "  <thead>\n",
       "    <tr style=\"text-align: right;\">\n",
       "      <th></th>\n",
       "      <th>label</th>\n",
       "      <th>tweet</th>\n",
       "      <th>word count</th>\n",
       "      <th>tweet_preprocess</th>\n",
       "      <th>tweet_pp_text_process</th>\n",
       "    </tr>\n",
       "  </thead>\n",
       "  <tbody>\n",
       "    <tr>\n",
       "      <th>0</th>\n",
       "      <td>1</td>\n",
       "      <td>The Da Vinci Code book is just awesome.</td>\n",
       "      <td>8</td>\n",
       "      <td>the da vinci code book is just awesome</td>\n",
       "      <td>[da, vinci, code, book, awesome]</td>\n",
       "    </tr>\n",
       "    <tr>\n",
       "      <th>1</th>\n",
       "      <td>1</td>\n",
       "      <td>this was the first clive cussler i've ever rea...</td>\n",
       "      <td>23</td>\n",
       "      <td>this was the first clive cussler i ve ever rea...</td>\n",
       "      <td>[first, clive, cussler, ever, read, even, book...</td>\n",
       "    </tr>\n",
       "    <tr>\n",
       "      <th>2</th>\n",
       "      <td>1</td>\n",
       "      <td>i liked the Da Vinci Code a lot.</td>\n",
       "      <td>8</td>\n",
       "      <td>i liked the da vinci code a lot</td>\n",
       "      <td>[liked, da, vinci, code, lot]</td>\n",
       "    </tr>\n",
       "    <tr>\n",
       "      <th>3</th>\n",
       "      <td>1</td>\n",
       "      <td>i liked the Da Vinci Code a lot.</td>\n",
       "      <td>8</td>\n",
       "      <td>i liked the da vinci code a lot</td>\n",
       "      <td>[liked, da, vinci, code, lot]</td>\n",
       "    </tr>\n",
       "    <tr>\n",
       "      <th>4</th>\n",
       "      <td>1</td>\n",
       "      <td>I liked the Da Vinci Code but it ultimatly did...</td>\n",
       "      <td>15</td>\n",
       "      <td>i liked the da vinci code but it ultimatly did...</td>\n",
       "      <td>[liked, da, vinci, code, ultimatly, seem, hold]</td>\n",
       "    </tr>\n",
       "  </tbody>\n",
       "</table>\n",
       "</div>"
      ],
      "text/plain": [
       "   label                                              tweet  word count  \\\n",
       "0      1            The Da Vinci Code book is just awesome.           8   \n",
       "1      1  this was the first clive cussler i've ever rea...          23   \n",
       "2      1                   i liked the Da Vinci Code a lot.           8   \n",
       "3      1                   i liked the Da Vinci Code a lot.           8   \n",
       "4      1  I liked the Da Vinci Code but it ultimatly did...          15   \n",
       "\n",
       "                                    tweet_preprocess  \\\n",
       "0            the da vinci code book is just awesome    \n",
       "1  this was the first clive cussler i ve ever rea...   \n",
       "2                   i liked the da vinci code a lot    \n",
       "3                   i liked the da vinci code a lot    \n",
       "4  i liked the da vinci code but it ultimatly did...   \n",
       "\n",
       "                               tweet_pp_text_process  \n",
       "0                   [da, vinci, code, book, awesome]  \n",
       "1  [first, clive, cussler, ever, read, even, book...  \n",
       "2                      [liked, da, vinci, code, lot]  \n",
       "3                      [liked, da, vinci, code, lot]  \n",
       "4    [liked, da, vinci, code, ultimatly, seem, hold]  "
      ]
     },
     "execution_count": 28,
     "metadata": {},
     "output_type": "execute_result"
    }
   ],
   "source": [
    "twitters.head()"
   ]
  },
  {
   "cell_type": "code",
   "execution_count": 29,
   "id": "547ea0a5",
   "metadata": {},
   "outputs": [],
   "source": [
    "twitters['tweet_pp_tp_remove_words'] = twitters['tweet_pp_text_process'].apply(remove_words)"
   ]
  },
  {
   "cell_type": "code",
   "execution_count": 30,
   "id": "47ab2494",
   "metadata": {},
   "outputs": [
    {
     "data": {
      "text/html": [
       "<div>\n",
       "<style scoped>\n",
       "    .dataframe tbody tr th:only-of-type {\n",
       "        vertical-align: middle;\n",
       "    }\n",
       "\n",
       "    .dataframe tbody tr th {\n",
       "        vertical-align: top;\n",
       "    }\n",
       "\n",
       "    .dataframe thead th {\n",
       "        text-align: right;\n",
       "    }\n",
       "</style>\n",
       "<table border=\"1\" class=\"dataframe\">\n",
       "  <thead>\n",
       "    <tr style=\"text-align: right;\">\n",
       "      <th></th>\n",
       "      <th>label</th>\n",
       "      <th>tweet</th>\n",
       "      <th>word count</th>\n",
       "      <th>tweet_preprocess</th>\n",
       "      <th>tweet_pp_text_process</th>\n",
       "      <th>tweet_pp_tp_remove_words</th>\n",
       "    </tr>\n",
       "  </thead>\n",
       "  <tbody>\n",
       "    <tr>\n",
       "      <th>0</th>\n",
       "      <td>1</td>\n",
       "      <td>The Da Vinci Code book is just awesome.</td>\n",
       "      <td>8</td>\n",
       "      <td>the da vinci code book is just awesome</td>\n",
       "      <td>[da, vinci, code, book, awesome]</td>\n",
       "      <td>[book, awesome]</td>\n",
       "    </tr>\n",
       "    <tr>\n",
       "      <th>1</th>\n",
       "      <td>1</td>\n",
       "      <td>this was the first clive cussler i've ever rea...</td>\n",
       "      <td>23</td>\n",
       "      <td>this was the first clive cussler i ve ever rea...</td>\n",
       "      <td>[first, clive, cussler, ever, read, even, book...</td>\n",
       "      <td>[first, clive, cussler, ever, read, even, book...</td>\n",
       "    </tr>\n",
       "    <tr>\n",
       "      <th>2</th>\n",
       "      <td>1</td>\n",
       "      <td>i liked the Da Vinci Code a lot.</td>\n",
       "      <td>8</td>\n",
       "      <td>i liked the da vinci code a lot</td>\n",
       "      <td>[liked, da, vinci, code, lot]</td>\n",
       "      <td>[liked, lot]</td>\n",
       "    </tr>\n",
       "    <tr>\n",
       "      <th>3</th>\n",
       "      <td>1</td>\n",
       "      <td>i liked the Da Vinci Code a lot.</td>\n",
       "      <td>8</td>\n",
       "      <td>i liked the da vinci code a lot</td>\n",
       "      <td>[liked, da, vinci, code, lot]</td>\n",
       "      <td>[liked, lot]</td>\n",
       "    </tr>\n",
       "    <tr>\n",
       "      <th>4</th>\n",
       "      <td>1</td>\n",
       "      <td>I liked the Da Vinci Code but it ultimatly did...</td>\n",
       "      <td>15</td>\n",
       "      <td>i liked the da vinci code but it ultimatly did...</td>\n",
       "      <td>[liked, da, vinci, code, ultimatly, seem, hold]</td>\n",
       "      <td>[liked, ultimatly, seem, hold]</td>\n",
       "    </tr>\n",
       "  </tbody>\n",
       "</table>\n",
       "</div>"
      ],
      "text/plain": [
       "   label                                              tweet  word count  \\\n",
       "0      1            The Da Vinci Code book is just awesome.           8   \n",
       "1      1  this was the first clive cussler i've ever rea...          23   \n",
       "2      1                   i liked the Da Vinci Code a lot.           8   \n",
       "3      1                   i liked the Da Vinci Code a lot.           8   \n",
       "4      1  I liked the Da Vinci Code but it ultimatly did...          15   \n",
       "\n",
       "                                    tweet_preprocess  \\\n",
       "0            the da vinci code book is just awesome    \n",
       "1  this was the first clive cussler i ve ever rea...   \n",
       "2                   i liked the da vinci code a lot    \n",
       "3                   i liked the da vinci code a lot    \n",
       "4  i liked the da vinci code but it ultimatly did...   \n",
       "\n",
       "                               tweet_pp_text_process  \\\n",
       "0                   [da, vinci, code, book, awesome]   \n",
       "1  [first, clive, cussler, ever, read, even, book...   \n",
       "2                      [liked, da, vinci, code, lot]   \n",
       "3                      [liked, da, vinci, code, lot]   \n",
       "4    [liked, da, vinci, code, ultimatly, seem, hold]   \n",
       "\n",
       "                            tweet_pp_tp_remove_words  \n",
       "0                                    [book, awesome]  \n",
       "1  [first, clive, cussler, ever, read, even, book...  \n",
       "2                                       [liked, lot]  \n",
       "3                                       [liked, lot]  \n",
       "4                     [liked, ultimatly, seem, hold]  "
      ]
     },
     "execution_count": 30,
     "metadata": {},
     "output_type": "execute_result"
    }
   ],
   "source": [
    "twitters.head()"
   ]
  },
  {
   "cell_type": "code",
   "execution_count": 31,
   "id": "462717a6",
   "metadata": {},
   "outputs": [],
   "source": [
    "# most common words in twitter dataset\n",
    "all_words = []\n",
    "for ls in twitters['tweet_pp_tp_remove_words']:\n",
    "    words = [w for w in ls]\n",
    "    for word in words:\n",
    "        all_words.append(word.lower())\n",
    "        \n",
    "# most common words in twitter dataset\n",
    "pos_words = []\n",
    "for ls in twitters['tweet_pp_tp_remove_words'][twitters.label == 1]:\n",
    "    pwords = [w for w in ls]\n",
    "    for pword in pwords:\n",
    "        pos_words.append(pword.lower())        \n",
    "\n",
    "# most common words in twitter dataset\n",
    "neg_words = []\n",
    "for ls in twitters['tweet_pp_tp_remove_words'][twitters.label == 0]:\n",
    "    nwords = [w for w in ls]\n",
    "    for nword in nwords:\n",
    "        neg_words.append(nword.lower())       "
   ]
  },
  {
   "cell_type": "code",
   "execution_count": 32,
   "id": "453c8471",
   "metadata": {},
   "outputs": [
    {
     "data": {
      "image/png": "[encoded data removed]",
      "text/plain": [
       "<Figure size 864x360 with 1 Axes>"
      ]
     },
     "metadata": {
      "needs_background": "light"
     },
     "output_type": "display_data"
    },
    {
     "data": {
      "image/png": "[encoded data removed]",
      "text/plain": [
       "<Figure size 864x360 with 1 Axes>"
      ]
     },
     "metadata": {
      "needs_background": "light"
     },
     "output_type": "display_data"
    },
    {
     "data": {
      "image/png": "[encoded data removed]",
      "text/plain": [
       "<Figure size 864x360 with 1 Axes>"
      ]
     },
     "metadata": {
      "needs_background": "light"
     },
     "output_type": "display_data"
    },
    {
     "data": {
      "image/png": "[encoded data removed]",
      "text/plain": [
       "<Figure size 864x360 with 1 Axes>"
      ]
     },
     "metadata": {
      "needs_background": "light"
     },
     "output_type": "display_data"
    },
    {
     "data": {
      "image/png": "[encoded data removed]",
      "text/plain": [
       "<Figure size 864x360 with 1 Axes>"
      ]
     },
     "metadata": {
      "needs_background": "light"
     },
     "output_type": "display_data"
    },
    {
     "data": {
      "text/plain": [
       "Text(0.5, 1.0, 'log-log plot of words frequency with negative labels')"
      ]
     },
     "execution_count": 32,
     "metadata": {},
     "output_type": "execute_result"
    },
    {
     "data": {
      "image/png": "[encoded data removed]",
      "text/plain": [
       "<Figure size 864x360 with 1 Axes>"
      ]
     },
     "metadata": {
      "needs_background": "light"
     },
     "output_type": "display_data"
    }
   ],
   "source": [
    "# plot word frequency distribution of first few words\n",
    "plt.figure(figsize=(12,5))\n",
    "plt.title('Top-10 words more frequent with all labels')\n",
    "plt.xticks(fontsize=13, rotation=90)\n",
    "fd = nltk.FreqDist(all_words)\n",
    "fd.plot(10,cumulative=False)\n",
    "\n",
    "# log-log of all words \n",
    "word_counts = sorted(Counter(all_words).values(), reverse=True)\n",
    "plt.figure(figsize=(12,5))\n",
    "plt.loglog(word_counts, linestyle='-', linewidth=1.5)\n",
    "plt.ylabel(\"Freq\")\n",
    "plt.xlabel(\"Word Rank\")\n",
    "plt.title('log-log plot of words frequency with all labels')\n",
    "\n",
    "# plot word frequency distribution of first few words in positive labels\n",
    "plt.figure(figsize=(12,5))\n",
    "plt.title('Top-10 words more frequent with positive labels')\n",
    "plt.xticks(fontsize=13, rotation=90)\n",
    "fd = nltk.FreqDist(pos_words)\n",
    "fd.plot(10,cumulative=False)\n",
    "\n",
    "# log-log of all words in positive labels\n",
    "word_counts = sorted(Counter(pos_words).values(), reverse=True)\n",
    "plt.figure(figsize=(12,5))\n",
    "plt.loglog(word_counts, linestyle='-', linewidth=1.5)\n",
    "plt.ylabel(\"Freq\")\n",
    "plt.xlabel(\"Word Rank\")\n",
    "plt.title('log-log plot of words frequency with positive labels')\n",
    "\n",
    "# plot word frequency distribution of first few words in negative labels\n",
    "plt.figure(figsize=(12,5))\n",
    "plt.title('Top-10 words more frequent with negative labels')\n",
    "plt.xticks(fontsize=13, rotation=90)\n",
    "fd = nltk.FreqDist(neg_words)\n",
    "fd.plot(10,cumulative=False)\n",
    "\n",
    "# log-log of all words in negative labels\n",
    "word_counts = sorted(Counter(neg_words).values(), reverse=True)\n",
    "plt.figure(figsize=(12,5))\n",
    "plt.loglog(word_counts, linestyle='-', linewidth=1.5)\n",
    "plt.ylabel(\"Freq\")\n",
    "plt.xlabel(\"Word Rank\")\n",
    "plt.title('log-log plot of words frequency with negative labels')"
   ]
  },
  {
   "cell_type": "markdown",
   "id": "b298f24e",
   "metadata": {},
   "source": [
    "## Vectorization"
   ]
  },
  {
   "cell_type": "code",
   "execution_count": 33,
   "id": "b53fecca",
   "metadata": {},
   "outputs": [],
   "source": [
    "bagofwords_transformer = CountVectorizer(analyzer=text_process).fit(twitters['tweet'])"
   ]
  },
  {
   "cell_type": "code",
   "execution_count": 34,
   "id": "c3dbefd1",
   "metadata": {},
   "outputs": [
    {
     "name": "stdout",
     "output_type": "stream",
     "text": [
      "2350\n"
     ]
    }
   ],
   "source": [
    "print(len(bagofwords_transformer.vocabulary_))"
   ]
  },
  {
   "cell_type": "code",
   "execution_count": 35,
   "id": "252db4d1",
   "metadata": {},
   "outputs": [
    {
     "data": {
      "text/plain": [
       "0                 The Da Vinci Code book is just awesome.\n",
       "1       this was the first clive cussler i've ever rea...\n",
       "2                        i liked the Da Vinci Code a lot.\n",
       "3                        i liked the Da Vinci Code a lot.\n",
       "4       I liked the Da Vinci Code but it ultimatly did...\n",
       "                              ...                        \n",
       "6913                       Brokeback Mountain was boring.\n",
       "6914         So Brokeback Mountain was really depressing.\n",
       "6915    As I sit here, watching the MTV Movie Awards, ...\n",
       "6916      Ok brokeback mountain is such a horrible movie.\n",
       "6917     Oh, and Brokeback Mountain was a terrible movie.\n",
       "Name: tweet, Length: 6918, dtype: object"
      ]
     },
     "execution_count": 35,
     "metadata": {},
     "output_type": "execute_result"
    }
   ],
   "source": [
    "twitters['tweet']"
   ]
  },
  {
   "cell_type": "code",
   "execution_count": 36,
   "id": "c5fb1c65",
   "metadata": {},
   "outputs": [],
   "source": [
    "tweet5 = twitters['tweet'][4]"
   ]
  },
  {
   "cell_type": "code",
   "execution_count": 37,
   "id": "28ede42b",
   "metadata": {},
   "outputs": [
    {
     "name": "stdout",
     "output_type": "stream",
     "text": [
      "I liked the Da Vinci Code but it ultimatly didn't seem to hold it's own.\n"
     ]
    }
   ],
   "source": [
    "print(tweet5)"
   ]
  },
  {
   "cell_type": "code",
   "execution_count": 38,
   "id": "267f39bb",
   "metadata": {},
   "outputs": [
    {
     "name": "stdout",
     "output_type": "stream",
     "text": [
      "  (0, 151)\t1\n",
      "  (0, 180)\t1\n",
      "  (0, 634)\t1\n",
      "  (0, 1051)\t1\n",
      "  (0, 1388)\t1\n",
      "  (0, 1549)\t1\n",
      "  (0, 1947)\t1\n",
      "  (0, 2207)\t1\n",
      "(1, 2350)\n"
     ]
    }
   ],
   "source": [
    "bow5 = bagofwords_transformer.transform([tweet5])\n",
    "print(bow5)\n",
    "print(bow5.shape)"
   ]
  },
  {
   "cell_type": "code",
   "execution_count": 39,
   "id": "18ca73f4",
   "metadata": {},
   "outputs": [
    {
     "name": "stdout",
     "output_type": "stream",
     "text": [
      "Rickards\n",
      "delicious\n",
      "Vinci\n",
      "didnt\n",
      "hold\n",
      "liked\n",
      "seem\n",
      "ultimatly\n"
     ]
    }
   ],
   "source": [
    "print(bagofwords_transformer.get_feature_names()[519])\n",
    "print(bagofwords_transformer.get_feature_names()[1037])\n",
    "print(bagofwords_transformer.get_feature_names()[634])\n",
    "print(bagofwords_transformer.get_feature_names()[1051])\n",
    "print(bagofwords_transformer.get_feature_names()[1388])\n",
    "print(bagofwords_transformer.get_feature_names()[1549])\n",
    "print(bagofwords_transformer.get_feature_names()[1947])\n",
    "print(bagofwords_transformer.get_feature_names()[2207])"
   ]
  },
  {
   "cell_type": "code",
   "execution_count": 40,
   "id": "cf68dd28",
   "metadata": {},
   "outputs": [],
   "source": [
    "twitters_bow = bagofwords_transformer.transform(twitters['tweet'])"
   ]
  },
  {
   "cell_type": "code",
   "execution_count": 41,
   "id": "5c6ad6ff",
   "metadata": {},
   "outputs": [
    {
     "name": "stdout",
     "output_type": "stream",
     "text": [
      "Shape of Sparse Matrix:  (6918, 2350)\n",
      "Amount of Non-Zero occurences:  46028\n"
     ]
    }
   ],
   "source": [
    "print('Shape of Sparse Matrix: ', twitters_bow.shape)\n",
    "print('Amount of Non-Zero occurences: ', twitters_bow.nnz)"
   ]
  },
  {
   "cell_type": "code",
   "execution_count": 42,
   "id": "756e1ff5",
   "metadata": {},
   "outputs": [
    {
     "name": "stdout",
     "output_type": "stream",
     "text": [
      "sparsity: 0\n"
     ]
    }
   ],
   "source": [
    "sparsity = (100.0 * twitters_bow.nnz / (twitters_bow.shape[0] * twitters_bow.shape[1]))\n",
    "print('sparsity: {}'.format(round(sparsity)))"
   ]
  },
  {
   "cell_type": "markdown",
   "id": "c7032e8f",
   "metadata": {},
   "source": [
    "### TF-IDF"
   ]
  },
  {
   "cell_type": "code",
   "execution_count": 43,
   "id": "6e630d6f",
   "metadata": {},
   "outputs": [
    {
     "name": "stdout",
     "output_type": "stream",
     "text": [
      "  (0, 2207)\t0.49164560211161784\n",
      "  (0, 1947)\t0.49164560211161784\n",
      "  (0, 1549)\t0.2808852599058391\n",
      "  (0, 1388)\t0.4698565796960789\n",
      "  (0, 1051)\t0.4000352670868803\n",
      "  (0, 634)\t0.137309529420294\n",
      "  (0, 180)\t0.13734632390404936\n",
      "  (0, 151)\t0.13842447276291386\n"
     ]
    }
   ],
   "source": [
    "tfidf_transformer = TfidfTransformer().fit(twitters_bow)\n",
    "tfidf5 = tfidf_transformer.transform(bow5)\n",
    "print(tfidf5)"
   ]
  },
  {
   "cell_type": "code",
   "execution_count": 44,
   "id": "98c72b03",
   "metadata": {},
   "outputs": [
    {
     "name": "stdout",
     "output_type": "stream",
     "text": [
      "3.7217291105478605\n",
      "3.7217291105478605\n"
     ]
    }
   ],
   "source": [
    "print(tfidf_transformer.idf_[bagofwords_transformer.vocabulary_['code']])\n",
    "print(tfidf_transformer.idf_[bagofwords_transformer.vocabulary_['code']])"
   ]
  },
  {
   "cell_type": "code",
   "execution_count": 45,
   "id": "ad870cbd",
   "metadata": {},
   "outputs": [
    {
     "name": "stdout",
     "output_type": "stream",
     "text": [
      "(6918, 2350)\n"
     ]
    }
   ],
   "source": [
    "twitters_tfidf = tfidf_transformer.transform(twitters_bow)\n",
    "print(twitters_tfidf.shape)"
   ]
  },
  {
   "cell_type": "markdown",
   "id": "12c2b6b6",
   "metadata": {},
   "source": [
    "## Training a model"
   ]
  },
  {
   "cell_type": "code",
   "execution_count": 46,
   "id": "01bf2405",
   "metadata": {},
   "outputs": [],
   "source": [
    "sentiment_detect_model = MultinomialNB().fit(twitters_tfidf, twitters['label'])"
   ]
  },
  {
   "cell_type": "code",
   "execution_count": 47,
   "id": "5524f311",
   "metadata": {},
   "outputs": [
    {
     "name": "stdout",
     "output_type": "stream",
     "text": [
      "predicted: 1\n",
      "actual: 1\n"
     ]
    }
   ],
   "source": [
    "print('predicted:', sentiment_detect_model.predict(tfidf5)[0])\n",
    "print('actual:', twitters['label'][4])"
   ]
  },
  {
   "cell_type": "markdown",
   "id": "682dfc8a",
   "metadata": {},
   "source": [
    "## Model Evaluation"
   ]
  },
  {
   "cell_type": "code",
   "execution_count": 48,
   "id": "07be3845",
   "metadata": {},
   "outputs": [
    {
     "name": "stdout",
     "output_type": "stream",
     "text": [
      "[1 1 1 ... 0 0 0]\n"
     ]
    }
   ],
   "source": [
    "all_preds = sentiment_detect_model.predict(twitters_tfidf)\n",
    "print(all_preds)"
   ]
  },
  {
   "cell_type": "code",
   "execution_count": 49,
   "id": "31eb972b",
   "metadata": {},
   "outputs": [
    {
     "name": "stdout",
     "output_type": "stream",
     "text": [
      "              precision    recall  f1-score   support\n",
      "\n",
      "           0       1.00      0.97      0.98      2975\n",
      "           1       0.98      1.00      0.99      3943\n",
      "\n",
      "    accuracy                           0.99      6918\n",
      "   macro avg       0.99      0.99      0.99      6918\n",
      "weighted avg       0.99      0.99      0.99      6918\n",
      "\n"
     ]
    }
   ],
   "source": [
    "print (classification_report(twitters['label'], all_preds)) # never actually evaluate on the same dataset you train on!"
   ]
  },
  {
   "cell_type": "markdown",
   "id": "c63f0881",
   "metadata": {},
   "source": [
    "## Train Test Split"
   ]
  },
  {
   "cell_type": "code",
   "execution_count": 50,
   "id": "0d89b481",
   "metadata": {},
   "outputs": [
    {
     "name": "stdout",
     "output_type": "stream",
     "text": [
      "train size: 4842\n",
      "test size: 2076\n",
      "dataset size: 6918\n"
     ]
    }
   ],
   "source": [
    "twt_train, twt_test, label_train, label_test = \\\n",
    "train_test_split(twitters['tweet'], twitters['label'], test_size=0.3)\n",
    "\n",
    "print('train size:', len(twt_train))\n",
    "print('test size:', len(twt_test))\n",
    "print('dataset size:', len(twt_train) + len(twt_test))"
   ]
  },
  {
   "cell_type": "markdown",
   "id": "5c0fd051",
   "metadata": {},
   "source": [
    "## Creating a Data Pipeline"
   ]
  },
  {
   "cell_type": "code",
   "execution_count": 51,
   "id": "86c565ca",
   "metadata": {},
   "outputs": [],
   "source": [
    "pipeline = Pipeline([\n",
    "    ('bow', CountVectorizer(analyzer=text_process)),  # strings to token integer counts\n",
    "    ('tfidf', TfidfTransformer()),  # integer counts to weighted TF-IDF scores\n",
    "    ('classifier', MultinomialNB()),  # train on TF-IDF vectors w/ Naive Bayes classifier\n",
    "])"
   ]
  },
  {
   "cell_type": "code",
   "execution_count": 52,
   "id": "2355d253",
   "metadata": {},
   "outputs": [
    {
     "data": {
      "text/plain": [
       "Pipeline(steps=[('bow',\n",
       "                 CountVectorizer(analyzer=<function text_process at 0x000002517438CB80>)),\n",
       "                ('tfidf', TfidfTransformer()),\n",
       "                ('classifier', MultinomialNB())])"
      ]
     },
     "execution_count": 52,
     "metadata": {},
     "output_type": "execute_result"
    }
   ],
   "source": [
    "pipeline.fit(twt_train,label_train)"
   ]
  },
  {
   "cell_type": "code",
   "execution_count": 53,
   "id": "5f7280ea",
   "metadata": {},
   "outputs": [],
   "source": [
    "predictions = pipeline.predict(twt_test)"
   ]
  },
  {
   "cell_type": "code",
   "execution_count": 54,
   "id": "b0d5487f",
   "metadata": {},
   "outputs": [
    {
     "name": "stdout",
     "output_type": "stream",
     "text": [
      "              precision    recall  f1-score   support\n",
      "\n",
      "           0       0.96      0.99      0.98       868\n",
      "           1       0.99      0.97      0.98      1208\n",
      "\n",
      "    accuracy                           0.98      2076\n",
      "   macro avg       0.98      0.98      0.98      2076\n",
      "weighted avg       0.98      0.98      0.98      2076\n",
      "\n"
     ]
    }
   ],
   "source": [
    "print(classification_report(predictions,label_test))"
   ]
  },
  {
   "cell_type": "code",
   "execution_count": 58,
   "id": "b21555ee",
   "metadata": {},
   "outputs": [],
   "source": [
    "cf_matrix = confusion_matrix(predictions,label_test)"
   ]
  },
  {
   "cell_type": "code",
   "execution_count": 59,
   "id": "ae3118ff",
   "metadata": {},
   "outputs": [
    {
     "data": {
      "image/png": "[encoded data removed]",
      "text/plain": [
       "<Figure size 432x288 with 2 Axes>"
      ]
     },
     "metadata": {
      "needs_background": "light"
     },
     "output_type": "display_data"
    }
   ],
   "source": [
    "ax= plt.subplot()\n",
    "#annot=True to annotate cells\n",
    "sns.heatmap(cf_matrix, annot=True, ax = ax,cmap='Blues',fmt='');\n",
    "\n",
    "# labels, title and ticks\n",
    "ax.set_xlabel('Predicted labels');\n",
    "ax.set_ylabel('True labels');\n",
    "ax.set_title('Confusion Matrix');\n",
    "ax.xaxis.set_ticklabels(['Positive', 'Negative']); ax.yaxis.set_ticklabels(['Positive', 'Negative']);"
   ]
  },
  {
   "cell_type": "code",
   "execution_count": 55,
   "id": "25e0cd2a",
   "metadata": {},
   "outputs": [
    {
     "data": {
      "text/plain": [
       "array([1, 0, 1, ..., 0, 0, 1], dtype=int64)"
      ]
     },
     "execution_count": 55,
     "metadata": {},
     "output_type": "execute_result"
    }
   ],
   "source": [
    "predictions"
   ]
  },
  {
   "cell_type": "code",
   "execution_count": 56,
   "id": "6748bb15",
   "metadata": {},
   "outputs": [
    {
     "name": "stdout",
     "output_type": "stream",
     "text": [
      "0       I love Harry Potter and if there's someone lik...\n",
      "1       oh, and i hated \" the da vinci code \" the nove...\n",
      "2                  brokeback mountain was pretty awesome.\n",
      "3       I loved the Da Vinci Code, both the book and t...\n",
      "4       Oh, and Brokeback Mountain is a TERRIBLE movie...\n",
      "                              ...                        \n",
      "2071    I wanted desperately to love'The Da Vinci Code...\n",
      "2072    friday hung out with kelsie and we went and sa...\n",
      "2073         So Brokeback Mountain was really depressing.\n",
      "2074                brokeback mountain was depressing....\n",
      "2075    i love being a sentry for mission impossible a...\n",
      "Name: tweet, Length: 2076, dtype: object\n"
     ]
    }
   ],
   "source": [
    "twt_test_noindex = twt_test.reset_index(drop=True)\n",
    "print(twt_test_noindex)"
   ]
  },
  {
   "cell_type": "code",
   "execution_count": 57,
   "id": "e61fe8c7",
   "metadata": {},
   "outputs": [
    {
     "data": {
      "text/plain": [
       "\"I love Harry Potter and if there's someone like him, I wanna date him... -- Jamaica, Queens..\""
      ]
     },
     "execution_count": 57,
     "metadata": {},
     "output_type": "execute_result"
    }
   ],
   "source": [
    "twt_test_noindex[0]"
   ]
  },
  {
   "cell_type": "code",
   "execution_count": 58,
   "id": "d41e3245",
   "metadata": {},
   "outputs": [
    {
     "name": "stdout",
     "output_type": "stream",
     "text": [
      "I love Harry Potter and if there's someone like him, I wanna date him... -- Jamaica, Queens.. - 1\n",
      "oh, and i hated \" the da vinci code \" the novel.... - 0\n",
      "brokeback mountain was pretty awesome. - 1\n",
      "I loved the Da Vinci Code, both the book and the movie. - 1\n",
      "Oh, and Brokeback Mountain is a TERRIBLE movie... - 0\n",
      "I love Brokeback Mountain.... - 1\n",
      "Not because I hate Harry Potter, but because I am the type of person that likes it when the main character dies. - 0\n"
     ]
    }
   ],
   "source": [
    "for i, p in enumerate(predictions):\n",
    "#     print(i)\n",
    "    print (twt_test_noindex[i] + \" - \" + str(p))\n",
    "    if i>5:\n",
    "        break #to avoid a lot of printing and slowing down the notebook"
   ]
  },
  {
   "cell_type": "markdown",
   "id": "b9f9b50b",
   "metadata": {},
   "source": [
    "## Test on Dataset.txt (no label)"
   ]
  },
  {
   "cell_type": "code",
   "execution_count": 59,
   "id": "f7f5784b",
   "metadata": {},
   "outputs": [],
   "source": [
    "twitters_test = pd.read_csv('testdata.txt', sep = '\\t', names=['tweet'])"
   ]
  },
  {
   "cell_type": "code",
   "execution_count": 60,
   "id": "3e47167d",
   "metadata": {},
   "outputs": [
    {
     "data": {
      "text/html": [
       "<div>\n",
       "<style scoped>\n",
       "    .dataframe tbody tr th:only-of-type {\n",
       "        vertical-align: middle;\n",
       "    }\n",
       "\n",
       "    .dataframe tbody tr th {\n",
       "        vertical-align: top;\n",
       "    }\n",
       "\n",
       "    .dataframe thead th {\n",
       "        text-align: right;\n",
       "    }\n",
       "</style>\n",
       "<table border=\"1\" class=\"dataframe\">\n",
       "  <thead>\n",
       "    <tr style=\"text-align: right;\">\n",
       "      <th></th>\n",
       "      <th>tweet</th>\n",
       "    </tr>\n",
       "  </thead>\n",
       "  <tbody>\n",
       "    <tr>\n",
       "      <th>0</th>\n",
       "      <td>I don't care what anyone says, I like Hillary...</td>\n",
       "    </tr>\n",
       "    <tr>\n",
       "      <th>1</th>\n",
       "      <td>harvard is dumb, i mean they really have to be...</td>\n",
       "    </tr>\n",
       "    <tr>\n",
       "      <th>2</th>\n",
       "      <td>I'm loving Shanghai &gt; &gt; &gt; ^ _ ^.</td>\n",
       "    </tr>\n",
       "    <tr>\n",
       "      <th>3</th>\n",
       "      <td>harvard is for dumb people.</td>\n",
       "    </tr>\n",
       "    <tr>\n",
       "      <th>4</th>\n",
       "      <td>As i stepped out of my beautiful Toyota, i hea...</td>\n",
       "    </tr>\n",
       "    <tr>\n",
       "      <th>...</th>\n",
       "      <td>...</td>\n",
       "    </tr>\n",
       "    <tr>\n",
       "      <th>28932</th>\n",
       "      <td>Love Story At Harvard [ awesome drama!</td>\n",
       "    </tr>\n",
       "    <tr>\n",
       "      <th>28933</th>\n",
       "      <td>well, i had a piece of crap toyota celica but ...</td>\n",
       "    </tr>\n",
       "    <tr>\n",
       "      <th>28934</th>\n",
       "      <td>But I miss Boston.</td>\n",
       "    </tr>\n",
       "    <tr>\n",
       "      <th>28935</th>\n",
       "      <td>i love paris hilton..</td>\n",
       "    </tr>\n",
       "    <tr>\n",
       "      <th>28936</th>\n",
       "      <td>I was rejected by the stupid San Francisco lit...</td>\n",
       "    </tr>\n",
       "  </tbody>\n",
       "</table>\n",
       "<p>28937 rows × 1 columns</p>\n",
       "</div>"
      ],
      "text/plain": [
       "                                                   tweet\n",
       "0       I don't care what anyone says, I like Hillary...\n",
       "1      harvard is dumb, i mean they really have to be...\n",
       "2                       I'm loving Shanghai > > > ^ _ ^.\n",
       "3                            harvard is for dumb people.\n",
       "4      As i stepped out of my beautiful Toyota, i hea...\n",
       "...                                                  ...\n",
       "28932             Love Story At Harvard [ awesome drama!\n",
       "28933  well, i had a piece of crap toyota celica but ...\n",
       "28934                                 But I miss Boston.\n",
       "28935                              i love paris hilton..\n",
       "28936  I was rejected by the stupid San Francisco lit...\n",
       "\n",
       "[28937 rows x 1 columns]"
      ]
     },
     "execution_count": 60,
     "metadata": {},
     "output_type": "execute_result"
    }
   ],
   "source": [
    "twitters_test"
   ]
  },
  {
   "cell_type": "code",
   "execution_count": 61,
   "id": "90dca3c8",
   "metadata": {},
   "outputs": [
    {
     "data": {
      "text/plain": [
       "0         I don't care what anyone says, I like Hillary...\n",
       "1        harvard is dumb, i mean they really have to be...\n",
       "2                         I'm loving Shanghai > > > ^ _ ^.\n",
       "3                              harvard is for dumb people.\n",
       "4        As i stepped out of my beautiful Toyota, i hea...\n",
       "                               ...                        \n",
       "28932               Love Story At Harvard [ awesome drama!\n",
       "28933    well, i had a piece of crap toyota celica but ...\n",
       "28934                                   But I miss Boston.\n",
       "28935                                i love paris hilton..\n",
       "28936    I was rejected by the stupid San Francisco lit...\n",
       "Name: tweet, Length: 28937, dtype: object"
      ]
     },
     "execution_count": 61,
     "metadata": {},
     "output_type": "execute_result"
    }
   ],
   "source": [
    "twitters_test['tweet']"
   ]
  },
  {
   "cell_type": "code",
   "execution_count": 62,
   "id": "5ca7ab76",
   "metadata": {},
   "outputs": [
    {
     "name": "stdout",
     "output_type": "stream",
     "text": [
      "0         I don't care what anyone says, I like Hillary...\n",
      "1        harvard is dumb, i mean they really have to be...\n",
      "2                         I'm loving Shanghai > > > ^ _ ^.\n",
      "3                              harvard is for dumb people.\n",
      "4        As i stepped out of my beautiful Toyota, i hea...\n",
      "                               ...                        \n",
      "28932               Love Story At Harvard [ awesome drama!\n",
      "28933    well, i had a piece of crap toyota celica but ...\n",
      "28934                                   But I miss Boston.\n",
      "28935                                i love paris hilton..\n",
      "28936    I was rejected by the stupid San Francisco lit...\n",
      "Name: tweet, Length: 28937, dtype: object\n"
     ]
    }
   ],
   "source": [
    "twitters_test_noindex = twitters_test['tweet'].reset_index(drop=True)\n",
    "print(twitters_test_noindex)"
   ]
  },
  {
   "cell_type": "code",
   "execution_count": 63,
   "id": "001a83f4",
   "metadata": {},
   "outputs": [],
   "source": [
    "predictions_nolabel = pipeline.predict(twitters_test['tweet'])"
   ]
  },
  {
   "cell_type": "code",
   "execution_count": 64,
   "id": "9ac384a4",
   "metadata": {},
   "outputs": [
    {
     "data": {
      "text/plain": [
       "array([1, 0, 0, ..., 1, 1, 0], dtype=int64)"
      ]
     },
     "execution_count": 64,
     "metadata": {},
     "output_type": "execute_result"
    }
   ],
   "source": [
    "predictions_nolabel"
   ]
  },
  {
   "cell_type": "code",
   "execution_count": 65,
   "id": "903a36c1",
   "metadata": {},
   "outputs": [
    {
     "data": {
      "text/plain": [
       "0         I don't care what anyone says, I like Hillary...\n",
       "1        harvard is dumb, i mean they really have to be...\n",
       "2                         I'm loving Shanghai > > > ^ _ ^.\n",
       "3                              harvard is for dumb people.\n",
       "4        As i stepped out of my beautiful Toyota, i hea...\n",
       "                               ...                        \n",
       "28932               Love Story At Harvard [ awesome drama!\n",
       "28933    well, i had a piece of crap toyota celica but ...\n",
       "28934                                   But I miss Boston.\n",
       "28935                                i love paris hilton..\n",
       "28936    I was rejected by the stupid San Francisco lit...\n",
       "Name: tweet, Length: 28937, dtype: object"
      ]
     },
     "execution_count": 65,
     "metadata": {},
     "output_type": "execute_result"
    }
   ],
   "source": [
    "twitters_test_noindex"
   ]
  },
  {
   "cell_type": "code",
   "execution_count": 67,
   "id": "02428d76",
   "metadata": {},
   "outputs": [
    {
     "name": "stdout",
     "output_type": "stream",
     "text": [
      " I don't care what anyone says, I like Hillary Clinton.\n",
      "have an awesome time at purdue!..\n",
      "Yep, I'm still in London, which is pretty awesome: P Remind me to post the million and one pictures that I took when I get back to Markham!...\n",
      "Have to say, I hate Paris Hilton's behavior but I do think she's kinda cute..\n",
      "i will love the lakers.\n",
      "I'm so glad I love Paris Hilton, too, or this would be excruciating.\n",
      "considering most Geico commericals are stupid...\n",
      "i liked MIT though, esp their little info book(\n",
      "Before I left Missouri, I thought London was going to be so good and cool and fun and a really great experience and I was really excited.\n",
      "I still like Tom Cruise.\n",
      "well, i had a piece of crap toyota celica but it died in portland and i got a ford ranger..\n",
      "i love angelina jolie.\n",
      "I still like Tom Cruise.\n",
      "UCLA is beautiful.\n",
      "I think Angelina Jolie is so much more beautiful than Jennifer Anniston, who, by the way, is majorly OVERRATED.\n",
      "Angelina Jolie is beautiful.\n",
      "and honda's are awesome:).\n",
      "I love Harvard.\n",
      "i love tom cruise!..\n",
      "This means we beat out schools like MIT, which is amazing for a relatively small, unassuming lil'IS department.\n",
      "i hate london bugs.\n",
      "Way to go stupid Lakers..\n",
      "london sucks....\n",
      "anyway, shanghai is really beautiful ， 滨江大道是很灵的啦 ， 那个starbucks是上海风景最好的starbucks ~ ~!!!\n",
      "buy quite a few food to back to notts to eat la, aiiii, notts only hv 1 chinese shop in town ja, so shit, london is so GREAT!!..\n",
      "angelina jolie is so beautiful that i don't even have the desire to attain such exquisite beauty..\n",
      "I reallllllly hate Tom Cruise...\n",
      "To my understanding, Harvard is a very difficult college to get in to.\n",
      "Boston can suck my fucking tits...\n",
      "I loved Boston and MIT so much and still do.\n",
      "I like honda civics!!!!!!.\n",
      "no matter how obvious it is to me that George W Bush is an arrogant idiot liar, there are plenty of people who believe him.\n",
      "I love the Los Angeles Lakers...\n",
      "the stupid honda lol or a BUG!..\n",
      "seattle sucks anyways.\n",
      "I want a ThinkPad or something.\n",
      "I love Shanghai, it's such a great city, and Hongzhou is only a two hour train ride away from it.\n",
      "My Purdue Cal friends are awesome!..\n",
      "Shanghai is beautiful ~..\n",
      "london sucks....\n",
      "i love my new Macbook..\n",
      "i love my new Macbook..\n",
      "i'd love to see the clips and lakers in the second round, though the winner would just be a stepping stone for the mavs or spurs...\n",
      "Awesome diner here @ Purdue...\n",
      "i love my new Macbook..\n",
      "San Francisco was brilliant, Sausalito...\n",
      "As for myself, I'm wanting a new Honda Element with a prescription windshield....\n",
      "i think if i hate boston, ill just disappear to california for the summers...\n",
      "I love the Toyota Prius.\n",
      "seattle sucks anyways.\n",
      "I love Harvard Square in the fall.\n",
      "I want a tour of London on the back of that bike!\n",
      "I know you're way too smart and way too cool to let stupid UCLA get to you...\n",
      "The Lakers are playing really awesome ball.\n",
      "It isn't over until its over though, and for now my brain is set on  I love Harvard, I want to come to Harvard \" mode..... - 1\n",
      "harvard is dumb, i mean they really have to be stupid to have not wanted her to be at their school. - 0\n",
      "I'm loving Shanghai > > > ^ _ ^. - 0\n",
      "harvard is for dumb people. - 1\n",
      "As i stepped out of my beautiful Toyota, i heard a scream as a gust of wind had just passed. - 1\n",
      "Bodies being dismembered, blown apart, and mutilated in any number of ways, or Angelina Jolie sucking a dick on a 30 foot screen?.. - 0\n",
      "I love Harvard Square in the fall. - 1\n",
      "London = amazing... - 1\n",
      "I HATE LONDON!.. - 0\n",
      "I love MIT so much... - 1\n",
      "I told her that UCLA is excellent for both... - 1\n",
      "I think at this moment i love San Francisco better than L. A.. - 1\n"
     ]
    }
   ],
   "source": [
    "for j, k in enumerate(predictions_nolabel):\n",
    "#     print(i)\n",
    "    print (twitters_test_noindex[j] + \" - \" + str(k))\n",
    "    if j>10:\n",
    "        break #to avoid a lot of printing and slowing down the notebook"
   ]
  },
  {
   "cell_type": "code",
   "execution_count": null,
   "id": "6b5d65c4",
   "metadata": {},
   "outputs": [],
   "source": []
  }
 ],
 "metadata": {
  "kernelspec": {
   "display_name": "Python 3",
   "language": "python",
   "name": "python3"
  },
  "language_info": {
   "codemirror_mode": {
    "name": "ipython",
    "version": 3
   },
   "file_extension": ".py",
   "mimetype": "text/x-python",
   "name": "python",
   "nbconvert_exporter": "python",
   "pygments_lexer": "ipython3",
   "version": "3.8.10"
  }
 },
 "nbformat": 4,
 "nbformat_minor": 5
}
